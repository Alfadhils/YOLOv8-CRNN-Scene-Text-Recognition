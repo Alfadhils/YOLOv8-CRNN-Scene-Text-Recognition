{
 "cells": [
  {
   "cell_type": "code",
   "execution_count": 1,
   "metadata": {},
   "outputs": [
    {
     "data": {
      "text/plain": [
       "<torch._C.Generator at 0x2553a91fb30>"
      ]
     },
     "execution_count": 1,
     "metadata": {},
     "output_type": "execute_result"
    }
   ],
   "source": [
    "import os\n",
    "import numpy as np \n",
    "import matplotlib.pyplot as plt \n",
    "from PIL import Image, ImageOps\n",
    "import pandas as pd\n",
    "import csv\n",
    "\n",
    "import torch\n",
    "from torchvision import transforms\n",
    "from torch import nn\n",
    "import torch.nn.functional as F\n",
    "from itertools import groupby\n",
    "\n",
    "from src.crnn_dataset import TRDataset, get_split\n",
    "from src.crnn_model import CRNN\n",
    "from src.crnn_decoder import ctc_decode\n",
    "from src.crnn_train import train_batch\n",
    "from src.crnn_evaluate import evaluate\n",
    "\n",
    "from tqdm import tqdm\n",
    "\n",
    "torch.manual_seed(42)"
   ]
  },
  {
   "cell_type": "code",
   "execution_count": 2,
   "metadata": {},
   "outputs": [],
   "source": [
    "img_height, img_width = 32,100"
   ]
  },
  {
   "cell_type": "code",
   "execution_count": 3,
   "metadata": {},
   "outputs": [],
   "source": [
    "train_loader, val_loader, test_loader = get_split(root_dir=\"datasets/TR_100k\",\n",
    "                                                  labels=\"labels.csv\",\n",
    "                                                  img_width=img_width,\n",
    "                                                  img_height=img_height,\n",
    "                                                  batch_size=64,\n",
    "                                                  splits=[0.98,0.01,0.01])"
   ]
  },
  {
   "cell_type": "code",
   "execution_count": 4,
   "metadata": {},
   "outputs": [
    {
     "name": "stdout",
     "output_type": "stream",
     "text": [
      "cuda\n"
     ]
    }
   ],
   "source": [
    "device = 'cuda' if torch.cuda.is_available() else 'cpu'\n",
    "print(device)"
   ]
  },
  {
   "cell_type": "code",
   "execution_count": 5,
   "metadata": {},
   "outputs": [],
   "source": [
    "num_class = len(TRDataset.LABEL2CHAR) + 1"
   ]
  },
  {
   "cell_type": "code",
   "execution_count": 6,
   "metadata": {},
   "outputs": [],
   "source": [
    "crnn = CRNN(1, img_height, img_width, num_class,\n",
    "                map_to_seq=64,\n",
    "                rnn_hidden=256)"
   ]
  },
  {
   "cell_type": "code",
   "execution_count": 7,
   "metadata": {},
   "outputs": [
    {
     "data": {
      "text/plain": [
       "CRNN(\n",
       "  (cnn): Sequential(\n",
       "    (conv0): Conv2d(1, 64, kernel_size=(3, 3), stride=(1, 1), padding=(1, 1))\n",
       "    (relu0): ReLU(inplace=True)\n",
       "    (pooling0): MaxPool2d(kernel_size=2, stride=2, padding=0, dilation=1, ceil_mode=False)\n",
       "    (conv1): Conv2d(64, 128, kernel_size=(3, 3), stride=(1, 1), padding=(1, 1))\n",
       "    (relu1): ReLU(inplace=True)\n",
       "    (pooling1): MaxPool2d(kernel_size=2, stride=2, padding=0, dilation=1, ceil_mode=False)\n",
       "    (conv2): Conv2d(128, 256, kernel_size=(3, 3), stride=(1, 1), padding=(1, 1))\n",
       "    (relu2): ReLU(inplace=True)\n",
       "    (conv3): Conv2d(256, 256, kernel_size=(3, 3), stride=(1, 1), padding=(1, 1))\n",
       "    (relu3): ReLU(inplace=True)\n",
       "    (pooling2): MaxPool2d(kernel_size=(2, 1), stride=(2, 1), padding=0, dilation=1, ceil_mode=False)\n",
       "    (conv4): Conv2d(256, 512, kernel_size=(3, 3), stride=(1, 1), padding=(1, 1))\n",
       "    (batchnorm4): BatchNorm2d(512, eps=1e-05, momentum=0.1, affine=True, track_running_stats=True)\n",
       "    (relu4): ReLU(inplace=True)\n",
       "    (conv5): Conv2d(512, 512, kernel_size=(3, 3), stride=(1, 1), padding=(1, 1))\n",
       "    (batchnorm5): BatchNorm2d(512, eps=1e-05, momentum=0.1, affine=True, track_running_stats=True)\n",
       "    (relu5): ReLU(inplace=True)\n",
       "    (pooling3): MaxPool2d(kernel_size=(2, 1), stride=(2, 1), padding=0, dilation=1, ceil_mode=False)\n",
       "    (conv6): Conv2d(512, 512, kernel_size=(2, 2), stride=(1, 1))\n",
       "    (relu6): ReLU(inplace=True)\n",
       "  )\n",
       "  (map_to_seq): Linear(in_features=512, out_features=64, bias=True)\n",
       "  (rnn1): LSTM(64, 256, bidirectional=True)\n",
       "  (rnn2): LSTM(512, 256, bidirectional=True)\n",
       "  (dense): Linear(in_features=512, out_features=37, bias=True)\n",
       ")"
      ]
     },
     "execution_count": 7,
     "metadata": {},
     "output_type": "execute_result"
    }
   ],
   "source": [
    "reload_checkpoint = None\n",
    "\n",
    "if reload_checkpoint:\n",
    "    crnn.load_state_dict(torch.load(reload_checkpoint, map_location=device))\n",
    "crnn.to(device)"
   ]
  },
  {
   "cell_type": "code",
   "execution_count": 8,
   "metadata": {},
   "outputs": [],
   "source": [
    "criterion = nn.CTCLoss(reduction='sum', zero_infinity=True)\n",
    "optimizer = torch.optim.Adam(crnn.parameters(), lr=0.0005)"
   ]
  },
  {
   "cell_type": "code",
   "execution_count": null,
   "metadata": {},
   "outputs": [],
   "source": [
    "def predict(crnn, dataloader, label2char):\n",
    "    crnn.eval()\n",
    "    pbar = tqdm(total=len(dataloader), desc=\"Predict\")\n",
    "\n",
    "    all_preds = []\n",
    "    with torch.no_grad():\n",
    "        for data in dataloader:\n",
    "            device = 'cuda' if next(crnn.parameters()).is_cuda else 'cpu'\n",
    "\n",
    "            images, targets, target_lengths = [d.to(device) for d in data]\n",
    "\n",
    "            logits = crnn(images)\n",
    "            log_probs = torch.nn.functional.log_softmax(logits, dim=2)\n",
    "\n",
    "            preds = ctc_decode(log_probs, label2char=label2char)\n",
    "            all_preds += preds\n",
    "\n",
    "            pbar.update(1)\n",
    "        pbar.close()\n",
    "\n",
    "    return all_preds\n",
    "\n",
    "\n",
    "def show_result(preds):\n",
    "    print('\\n===== result =====')\n",
    "    for pred in preds:\n",
    "        text = ''.join(pred)\n",
    "        print(text)"
   ]
  },
  {
   "cell_type": "code",
   "execution_count": 9,
   "metadata": {},
   "outputs": [
    {
     "name": "stderr",
     "output_type": "stream",
     "text": [
      "Evaluate: 100%|██████████| 16/16 [00:02<00:00,  5.56it/s]"
     ]
    },
    {
     "name": "stdout",
     "output_type": "stream",
     "text": [
      "valid_evaluation: loss=71.50136669921875, acc=0.0\n"
     ]
    },
    {
     "name": "stderr",
     "output_type": "stream",
     "text": [
      "\n"
     ]
    }
   ],
   "source": [
    "evaluation = evaluate(crnn, val_loader, criterion)\n",
    "print('valid_evaluation: loss={loss}, acc={acc}'.format(**evaluation))"
   ]
  },
  {
   "cell_type": "code",
   "execution_count": null,
   "metadata": {},
   "outputs": [],
   "source": [
    "fig, axes = plt.subplots(8, 8, figsize=(24, 24))\n",
    "\n",
    "crnn.eval()\n",
    "\n",
    "label2char = TRDataset.LABEL2CHAR\n",
    "with torch.no_grad():\n",
    "    for i, data in enumerate(val_loader):\n",
    "        device = 'cuda' if next(crnn.parameters()).is_cuda else 'cpu'\n",
    "\n",
    "        images, targets, target_lengths = [d.to(device) for d in data]\n",
    "\n",
    "        logits = crnn(images)\n",
    "        log_probs = torch.nn.functional.log_softmax(logits, dim=2)\n",
    "\n",
    "        batch_size = images.size(0)\n",
    "        input_lengths = torch.LongTensor([logits.size(0)] * batch_size)\n",
    "\n",
    "        loss = criterion(log_probs, targets, input_lengths, target_lengths)\n",
    "\n",
    "        preds = ctc_decode(log_probs, label2char=label2char)\n",
    "        reals = targets.cpu().numpy().tolist()\n",
    "        target_lengths = target_lengths.cpu().numpy().tolist()\n",
    "\n",
    "        all_preds = []\n",
    "        all_reals = []\n",
    "        target_length_counter = 0\n",
    "        for pred, target_length in zip(preds, target_lengths):\n",
    "            real = reals[target_length_counter:target_length_counter + target_length]\n",
    "            real = [label2char[l] for l in real]\n",
    "            pred_text, real_text = ''.join(pred), ''.join(real)\n",
    "            all_preds.append(pred_text)\n",
    "            all_reals.append(real_text)\n",
    "\n",
    "            target_length_counter += target_length\n",
    "\n",
    "        for i, img in enumerate(images.cpu().numpy()):\n",
    "            axes.flatten()[i].imshow(img[0], cmap='gray')\n",
    "            axes.flatten()[i].set_title(f'{all_reals[i]} > {all_preds[i]}')\n",
    "\n",
    "        plt.show()\n",
    "        break"
   ]
  },
  {
   "cell_type": "code",
   "execution_count": 10,
   "metadata": {},
   "outputs": [
    {
     "name": "stdout",
     "output_type": "stream",
     "text": [
      "EPOCH [1/20]\n",
      "Running Train Loss [100/1532] : 19.24\n",
      "Running Train Loss [200/1532] : 18.01\n",
      "Running Train Loss [300/1532] : 17.54\n",
      "Running Train Loss [400/1532] : 17.30\n",
      "Running Train Loss [500/1532] : 17.12\n",
      "Running Train Loss [600/1532] : 17.01\n",
      "Running Train Loss [700/1532] : 16.90\n",
      "Running Train Loss [800/1532] : 16.80\n",
      "Running Train Loss [900/1532] : 16.72\n",
      "Running Train Loss [1000/1532] : 16.64\n",
      "Running Train Loss [1100/1532] : 16.58\n",
      "Running Train Loss [1200/1532] : 16.53\n",
      "Running Train Loss [1300/1532] : 16.48\n",
      "Running Train Loss [1400/1532] : 16.43\n",
      "Running Train Loss [1500/1532] : 16.39\n"
     ]
    },
    {
     "name": "stderr",
     "output_type": "stream",
     "text": [
      "Evaluate: 100%|██████████| 16/16 [00:04<00:00,  3.24it/s]\n"
     ]
    },
    {
     "name": "stdout",
     "output_type": "stream",
     "text": [
      "EPOCH [1/20] => Train Loss : 15.5921 | Val Loss : 15.6841, Val Acc: 0.01\n",
      "EPOCH [2/20]\n",
      "Running Train Loss [100/1532] : 15.48\n",
      "Running Train Loss [200/1532] : 15.51\n",
      "Running Train Loss [300/1532] : 15.50\n",
      "Running Train Loss [400/1532] : 15.45\n",
      "Running Train Loss [500/1532] : 15.40\n",
      "Running Train Loss [600/1532] : 15.31\n",
      "Running Train Loss [700/1532] : 15.21\n",
      "Running Train Loss [800/1532] : 15.10\n",
      "Running Train Loss [900/1532] : 15.00\n",
      "Running Train Loss [1000/1532] : 14.89\n",
      "Running Train Loss [1100/1532] : 14.77\n",
      "Running Train Loss [1200/1532] : 14.67\n",
      "Running Train Loss [1300/1532] : 14.53\n",
      "Running Train Loss [1400/1532] : 14.37\n",
      "Running Train Loss [1500/1532] : 14.22\n"
     ]
    },
    {
     "name": "stderr",
     "output_type": "stream",
     "text": [
      "Evaluate: 100%|██████████| 16/16 [00:01<00:00,  8.51it/s]\n"
     ]
    },
    {
     "name": "stdout",
     "output_type": "stream",
     "text": [
      "EPOCH [2/20] => Train Loss : 17.0528 | Val Loss : 11.8118, Val Acc: 0.08\n",
      "EPOCH [3/20]\n",
      "Running Train Loss [100/1532] : 11.35\n",
      "Running Train Loss [200/1532] : 11.02\n",
      "Running Train Loss [300/1532] : 10.88\n",
      "Running Train Loss [400/1532] : 10.73\n",
      "Running Train Loss [500/1532] : 10.51\n",
      "Running Train Loss [600/1532] : 10.35\n",
      "Running Train Loss [700/1532] : 10.21\n",
      "Running Train Loss [800/1532] : 10.06\n",
      "Running Train Loss [900/1532] : 9.94\n",
      "Running Train Loss [1000/1532] : 9.79\n",
      "Running Train Loss [1100/1532] : 9.69\n",
      "Running Train Loss [1200/1532] : 9.57\n",
      "Running Train Loss [1300/1532] : 9.48\n",
      "Running Train Loss [1400/1532] : 9.38\n",
      "Running Train Loss [1500/1532] : 9.29\n"
     ]
    },
    {
     "name": "stderr",
     "output_type": "stream",
     "text": [
      "Evaluate: 100%|██████████| 16/16 [00:01<00:00,  8.59it/s]\n"
     ]
    },
    {
     "name": "stdout",
     "output_type": "stream",
     "text": [
      "EPOCH [3/20] => Train Loss : 7.4702 | Val Loss : 7.7855, Val Acc: 0.296\n",
      "EPOCH [4/20]\n",
      "Running Train Loss [100/1532] : 7.49\n",
      "Running Train Loss [200/1532] : 7.49\n",
      "Running Train Loss [300/1532] : 7.46\n",
      "Running Train Loss [400/1532] : 7.41\n",
      "Running Train Loss [500/1532] : 7.39\n",
      "Running Train Loss [600/1532] : 7.36\n",
      "Running Train Loss [700/1532] : 7.34\n",
      "Running Train Loss [800/1532] : 7.34\n",
      "Running Train Loss [900/1532] : 7.30\n",
      "Running Train Loss [1000/1532] : 7.26\n",
      "Running Train Loss [1100/1532] : 7.24\n",
      "Running Train Loss [1200/1532] : 7.21\n",
      "Running Train Loss [1300/1532] : 7.18\n",
      "Running Train Loss [1400/1532] : 7.16\n",
      "Running Train Loss [1500/1532] : 7.14\n"
     ]
    },
    {
     "name": "stderr",
     "output_type": "stream",
     "text": [
      "Evaluate: 100%|██████████| 16/16 [00:01<00:00,  8.67it/s]\n"
     ]
    },
    {
     "name": "stdout",
     "output_type": "stream",
     "text": [
      "EPOCH [4/20] => Train Loss : 7.5563 | Val Loss : 6.8309, Val Acc: 0.38\n",
      "EPOCH [5/20]\n",
      "Running Train Loss [100/1532] : 6.37\n",
      "Running Train Loss [200/1532] : 6.40\n",
      "Running Train Loss [300/1532] : 6.40\n",
      "Running Train Loss [400/1532] : 6.37\n",
      "Running Train Loss [500/1532] : 6.37\n",
      "Running Train Loss [600/1532] : 6.34\n",
      "Running Train Loss [700/1532] : 6.33\n",
      "Running Train Loss [800/1532] : 6.31\n",
      "Running Train Loss [900/1532] : 6.30\n",
      "Running Train Loss [1000/1532] : 6.29\n",
      "Running Train Loss [1100/1532] : 6.28\n",
      "Running Train Loss [1200/1532] : 6.28\n",
      "Running Train Loss [1300/1532] : 6.28\n",
      "Running Train Loss [1400/1532] : 6.28\n",
      "Running Train Loss [1500/1532] : 6.27\n"
     ]
    },
    {
     "name": "stderr",
     "output_type": "stream",
     "text": [
      "Evaluate: 100%|██████████| 16/16 [00:01<00:00,  8.55it/s]\n"
     ]
    },
    {
     "name": "stdout",
     "output_type": "stream",
     "text": [
      "EPOCH [5/20] => Train Loss : 6.3754 | Val Loss : 6.3587, Val Acc: 0.404\n",
      "EPOCH [6/20]\n",
      "Running Train Loss [100/1532] : 5.64\n",
      "Running Train Loss [200/1532] : 5.75\n",
      "Running Train Loss [300/1532] : 5.79\n",
      "Running Train Loss [400/1532] : 5.79\n",
      "Running Train Loss [500/1532] : 5.80\n",
      "Running Train Loss [600/1532] : 5.81\n",
      "Running Train Loss [700/1532] : 5.79\n",
      "Running Train Loss [800/1532] : 5.77\n",
      "Running Train Loss [900/1532] : 5.76\n",
      "Running Train Loss [1000/1532] : 5.76\n",
      "Running Train Loss [1100/1532] : 5.75\n",
      "Running Train Loss [1200/1532] : 5.75\n",
      "Running Train Loss [1300/1532] : 5.74\n",
      "Running Train Loss [1400/1532] : 5.73\n",
      "Running Train Loss [1500/1532] : 5.72\n"
     ]
    },
    {
     "name": "stderr",
     "output_type": "stream",
     "text": [
      "Evaluate: 100%|██████████| 16/16 [00:01<00:00,  8.62it/s]\n"
     ]
    },
    {
     "name": "stdout",
     "output_type": "stream",
     "text": [
      "EPOCH [6/20] => Train Loss : 3.1857 | Val Loss : 6.1593, Val Acc: 0.419\n",
      "EPOCH [7/20]\n",
      "Running Train Loss [100/1532] : 5.23\n",
      "Running Train Loss [200/1532] : 5.16\n",
      "Running Train Loss [300/1532] : 5.14\n",
      "Running Train Loss [400/1532] : 5.19\n",
      "Running Train Loss [500/1532] : 5.23\n",
      "Running Train Loss [600/1532] : 5.24\n",
      "Running Train Loss [700/1532] : 5.25\n",
      "Running Train Loss [800/1532] : 5.25\n",
      "Running Train Loss [900/1532] : 5.27\n",
      "Running Train Loss [1000/1532] : 5.28\n",
      "Running Train Loss [1100/1532] : 5.29\n",
      "Running Train Loss [1200/1532] : 5.30\n",
      "Running Train Loss [1300/1532] : 5.31\n",
      "Running Train Loss [1400/1532] : 5.29\n",
      "Running Train Loss [1500/1532] : 5.29\n"
     ]
    },
    {
     "name": "stderr",
     "output_type": "stream",
     "text": [
      "Evaluate: 100%|██████████| 16/16 [00:01<00:00,  8.69it/s]\n"
     ]
    },
    {
     "name": "stdout",
     "output_type": "stream",
     "text": [
      "EPOCH [7/20] => Train Loss : 7.8061 | Val Loss : 5.7944, Val Acc: 0.455\n",
      "EPOCH [8/20]\n",
      "Running Train Loss [100/1532] : 4.75\n",
      "Running Train Loss [200/1532] : 4.82\n",
      "Running Train Loss [300/1532] : 4.82\n",
      "Running Train Loss [400/1532] : 4.85\n",
      "Running Train Loss [500/1532] : 4.85\n",
      "Running Train Loss [600/1532] : 4.88\n",
      "Running Train Loss [700/1532] : 4.89\n",
      "Running Train Loss [800/1532] : 4.90\n",
      "Running Train Loss [900/1532] : 4.91\n",
      "Running Train Loss [1000/1532] : 4.89\n",
      "Running Train Loss [1100/1532] : 4.90\n",
      "Running Train Loss [1200/1532] : 4.91\n",
      "Running Train Loss [1300/1532] : 4.91\n",
      "Running Train Loss [1400/1532] : 4.92\n",
      "Running Train Loss [1500/1532] : 4.93\n"
     ]
    },
    {
     "name": "stderr",
     "output_type": "stream",
     "text": [
      "Evaluate: 100%|██████████| 16/16 [00:01<00:00,  8.58it/s]\n"
     ]
    },
    {
     "name": "stdout",
     "output_type": "stream",
     "text": [
      "EPOCH [8/20] => Train Loss : 4.8964 | Val Loss : 5.6123, Val Acc: 0.473\n",
      "EPOCH [9/20]\n",
      "Running Train Loss [100/1532] : 4.58\n",
      "Running Train Loss [200/1532] : 4.50\n",
      "Running Train Loss [300/1532] : 4.52\n",
      "Running Train Loss [400/1532] : 4.54\n",
      "Running Train Loss [500/1532] : 4.57\n",
      "Running Train Loss [600/1532] : 4.58\n",
      "Running Train Loss [700/1532] : 4.61\n",
      "Running Train Loss [800/1532] : 4.59\n",
      "Running Train Loss [900/1532] : 4.60\n",
      "Running Train Loss [1000/1532] : 4.61\n",
      "Running Train Loss [1100/1532] : 4.61\n",
      "Running Train Loss [1200/1532] : 4.61\n",
      "Running Train Loss [1300/1532] : 4.62\n",
      "Running Train Loss [1400/1532] : 4.63\n",
      "Running Train Loss [1500/1532] : 4.63\n"
     ]
    },
    {
     "name": "stderr",
     "output_type": "stream",
     "text": [
      "Evaluate: 100%|██████████| 16/16 [00:01<00:00,  8.64it/s]\n"
     ]
    },
    {
     "name": "stdout",
     "output_type": "stream",
     "text": [
      "EPOCH [9/20] => Train Loss : 3.4785 | Val Loss : 5.4607, Val Acc: 0.478\n",
      "EPOCH [10/20]\n",
      "Running Train Loss [100/1532] : 4.33\n",
      "Running Train Loss [200/1532] : 4.29\n",
      "Running Train Loss [300/1532] : 4.36\n",
      "Running Train Loss [400/1532] : 4.35\n",
      "Running Train Loss [500/1532] : 4.31\n",
      "Running Train Loss [600/1532] : 4.32\n",
      "Running Train Loss [700/1532] : 4.33\n",
      "Running Train Loss [800/1532] : 4.33\n",
      "Running Train Loss [900/1532] : 4.35\n",
      "Running Train Loss [1000/1532] : 4.35\n",
      "Running Train Loss [1100/1532] : 4.35\n",
      "Running Train Loss [1200/1532] : 4.35\n",
      "Running Train Loss [1300/1532] : 4.35\n",
      "Running Train Loss [1400/1532] : 4.36\n",
      "Running Train Loss [1500/1532] : 4.36\n"
     ]
    },
    {
     "name": "stderr",
     "output_type": "stream",
     "text": [
      "Evaluate: 100%|██████████| 16/16 [00:01<00:00,  8.67it/s]\n"
     ]
    },
    {
     "name": "stdout",
     "output_type": "stream",
     "text": [
      "EPOCH [10/20] => Train Loss : 5.3368 | Val Loss : 5.3616, Val Acc: 0.49\n",
      "EPOCH [11/20]\n",
      "Running Train Loss [100/1532] : 3.91\n",
      "Running Train Loss [200/1532] : 3.94\n",
      "Running Train Loss [300/1532] : 3.97\n",
      "Running Train Loss [400/1532] : 4.00\n",
      "Running Train Loss [500/1532] : 4.01\n",
      "Running Train Loss [600/1532] : 4.02\n",
      "Running Train Loss [700/1532] : 4.03\n",
      "Running Train Loss [800/1532] : 4.04\n",
      "Running Train Loss [900/1532] : 4.05\n",
      "Running Train Loss [1000/1532] : 4.06\n",
      "Running Train Loss [1100/1532] : 4.05\n",
      "Running Train Loss [1200/1532] : 4.07\n",
      "Running Train Loss [1300/1532] : 4.07\n",
      "Running Train Loss [1400/1532] : 4.08\n",
      "Running Train Loss [1500/1532] : 4.08\n"
     ]
    },
    {
     "name": "stderr",
     "output_type": "stream",
     "text": [
      "Evaluate: 100%|██████████| 16/16 [00:01<00:00,  8.63it/s]\n"
     ]
    },
    {
     "name": "stdout",
     "output_type": "stream",
     "text": [
      "EPOCH [11/20] => Train Loss : 5.9806 | Val Loss : 5.3489, Val Acc: 0.501\n",
      "EPOCH [12/20]\n",
      "Running Train Loss [100/1532] : 3.69\n",
      "Running Train Loss [200/1532] : 3.70\n",
      "Running Train Loss [300/1532] : 3.70\n",
      "Running Train Loss [400/1532] : 3.74\n",
      "Running Train Loss [500/1532] : 3.74\n",
      "Running Train Loss [600/1532] : 3.78\n",
      "Running Train Loss [700/1532] : 3.79\n",
      "Running Train Loss [800/1532] : 3.79\n",
      "Running Train Loss [900/1532] : 3.80\n",
      "Running Train Loss [1000/1532] : 3.80\n",
      "Running Train Loss [1100/1532] : 3.81\n",
      "Running Train Loss [1200/1532] : 3.81\n",
      "Running Train Loss [1300/1532] : 3.82\n",
      "Running Train Loss [1400/1532] : 3.82\n",
      "Running Train Loss [1500/1532] : 3.83\n"
     ]
    },
    {
     "name": "stderr",
     "output_type": "stream",
     "text": [
      "Evaluate: 100%|██████████| 16/16 [00:01<00:00,  8.32it/s]\n"
     ]
    },
    {
     "name": "stdout",
     "output_type": "stream",
     "text": [
      "EPOCH [12/20] => Train Loss : 4.8543 | Val Loss : 5.4092, Val Acc: 0.49\n",
      "EPOCH [13/20]\n",
      "Running Train Loss [100/1532] : 3.51\n",
      "Running Train Loss [200/1532] : 3.52\n",
      "Running Train Loss [300/1532] : 3.53\n",
      "Running Train Loss [400/1532] : 3.52\n",
      "Running Train Loss [500/1532] : 3.51\n",
      "Running Train Loss [600/1532] : 3.50\n",
      "Running Train Loss [700/1532] : 3.51\n",
      "Running Train Loss [800/1532] : 3.51\n",
      "Running Train Loss [900/1532] : 3.53\n",
      "Running Train Loss [1000/1532] : 3.54\n",
      "Running Train Loss [1100/1532] : 3.56\n",
      "Running Train Loss [1200/1532] : 3.57\n",
      "Running Train Loss [1300/1532] : 3.58\n",
      "Running Train Loss [1400/1532] : 3.59\n",
      "Running Train Loss [1500/1532] : 3.60\n"
     ]
    },
    {
     "name": "stderr",
     "output_type": "stream",
     "text": [
      "Evaluate: 100%|██████████| 16/16 [00:01<00:00,  8.60it/s]\n"
     ]
    },
    {
     "name": "stdout",
     "output_type": "stream",
     "text": [
      "EPOCH [13/20] => Train Loss : 4.0576 | Val Loss : 5.4140, Val Acc: 0.493\n",
      "EPOCH [14/20]\n",
      "Running Train Loss [100/1532] : 3.24\n",
      "Running Train Loss [200/1532] : 3.21\n",
      "Running Train Loss [300/1532] : 3.24\n",
      "Running Train Loss [400/1532] : 3.27\n",
      "Running Train Loss [500/1532] : 3.28\n",
      "Running Train Loss [600/1532] : 3.28\n",
      "Running Train Loss [700/1532] : 3.31\n",
      "Running Train Loss [800/1532] : 3.33\n",
      "Running Train Loss [900/1532] : 3.35\n",
      "Running Train Loss [1000/1532] : 3.36\n",
      "Running Train Loss [1100/1532] : 3.36\n",
      "Running Train Loss [1200/1532] : 3.37\n",
      "Running Train Loss [1300/1532] : 3.38\n",
      "Running Train Loss [1400/1532] : 3.38\n",
      "Running Train Loss [1500/1532] : 3.39\n"
     ]
    },
    {
     "name": "stderr",
     "output_type": "stream",
     "text": [
      "Evaluate: 100%|██████████| 16/16 [00:01<00:00,  8.66it/s]\n"
     ]
    },
    {
     "name": "stdout",
     "output_type": "stream",
     "text": [
      "EPOCH [14/20] => Train Loss : 4.9752 | Val Loss : 5.4460, Val Acc: 0.506\n",
      "EPOCH [15/20]\n",
      "Running Train Loss [100/1532] : 3.01\n",
      "Running Train Loss [200/1532] : 3.03\n",
      "Running Train Loss [300/1532] : 3.08\n",
      "Running Train Loss [400/1532] : 3.07\n",
      "Running Train Loss [500/1532] : 3.07\n",
      "Running Train Loss [600/1532] : 3.09\n",
      "Running Train Loss [700/1532] : 3.10\n",
      "Running Train Loss [800/1532] : 3.12\n",
      "Running Train Loss [900/1532] : 3.11\n",
      "Running Train Loss [1000/1532] : 3.12\n",
      "Running Train Loss [1100/1532] : 3.13\n",
      "Running Train Loss [1200/1532] : 3.14\n",
      "Running Train Loss [1300/1532] : 3.15\n",
      "Running Train Loss [1400/1532] : 3.15\n",
      "Running Train Loss [1500/1532] : 3.16\n"
     ]
    },
    {
     "name": "stderr",
     "output_type": "stream",
     "text": [
      "Evaluate: 100%|██████████| 16/16 [00:01<00:00,  8.74it/s]\n"
     ]
    },
    {
     "name": "stdout",
     "output_type": "stream",
     "text": [
      "EPOCH [15/20] => Train Loss : 4.0507 | Val Loss : 5.5518, Val Acc: 0.498\n",
      "EPOCH [16/20]\n",
      "Running Train Loss [100/1532] : 2.86\n",
      "Running Train Loss [200/1532] : 2.86\n",
      "Running Train Loss [300/1532] : 2.88\n",
      "Running Train Loss [400/1532] : 2.92\n",
      "Running Train Loss [500/1532] : 2.92\n",
      "Running Train Loss [600/1532] : 2.90\n",
      "Running Train Loss [700/1532] : 2.91\n",
      "Running Train Loss [800/1532] : 2.91\n",
      "Running Train Loss [900/1532] : 2.91\n",
      "Running Train Loss [1000/1532] : 2.93\n",
      "Running Train Loss [1100/1532] : 2.94\n",
      "Running Train Loss [1200/1532] : 2.96\n",
      "Running Train Loss [1300/1532] : 2.97\n",
      "Running Train Loss [1400/1532] : 2.97\n",
      "Running Train Loss [1500/1532] : 2.97\n"
     ]
    },
    {
     "name": "stderr",
     "output_type": "stream",
     "text": [
      "Evaluate: 100%|██████████| 16/16 [00:01<00:00,  8.60it/s]\n"
     ]
    },
    {
     "name": "stdout",
     "output_type": "stream",
     "text": [
      "EPOCH [16/20] => Train Loss : 3.1108 | Val Loss : 5.6472, Val Acc: 0.51\n",
      "EPOCH [17/20]\n",
      "Running Train Loss [100/1532] : 2.77\n",
      "Running Train Loss [200/1532] : 2.72\n",
      "Running Train Loss [300/1532] : 2.72\n",
      "Running Train Loss [400/1532] : 2.69\n",
      "Running Train Loss [500/1532] : 2.72\n",
      "Running Train Loss [600/1532] : 2.73\n",
      "Running Train Loss [700/1532] : 2.73\n",
      "Running Train Loss [800/1532] : 2.75\n",
      "Running Train Loss [900/1532] : 2.77\n",
      "Running Train Loss [1000/1532] : 2.78\n",
      "Running Train Loss [1100/1532] : 2.78\n",
      "Running Train Loss [1200/1532] : 2.77\n",
      "Running Train Loss [1300/1532] : 2.78\n",
      "Running Train Loss [1400/1532] : 2.79\n",
      "Running Train Loss [1500/1532] : 2.80\n"
     ]
    },
    {
     "name": "stderr",
     "output_type": "stream",
     "text": [
      "Evaluate: 100%|██████████| 16/16 [00:01<00:00,  8.69it/s]\n"
     ]
    },
    {
     "name": "stdout",
     "output_type": "stream",
     "text": [
      "EPOCH [17/20] => Train Loss : 1.7807 | Val Loss : 5.8062, Val Acc: 0.518\n",
      "EPOCH [18/20]\n",
      "Running Train Loss [100/1532] : 2.41\n",
      "Running Train Loss [200/1532] : 2.43\n",
      "Running Train Loss [300/1532] : 2.50\n",
      "Running Train Loss [400/1532] : 2.51\n",
      "Running Train Loss [500/1532] : 2.54\n",
      "Running Train Loss [600/1532] : 2.54\n",
      "Running Train Loss [700/1532] : 2.54\n",
      "Running Train Loss [800/1532] : 2.55\n",
      "Running Train Loss [900/1532] : 2.56\n",
      "Running Train Loss [1000/1532] : 2.55\n",
      "Running Train Loss [1100/1532] : 2.57\n",
      "Running Train Loss [1200/1532] : 2.58\n",
      "Running Train Loss [1300/1532] : 2.60\n",
      "Running Train Loss [1400/1532] : 2.60\n",
      "Running Train Loss [1500/1532] : 2.62\n"
     ]
    },
    {
     "name": "stderr",
     "output_type": "stream",
     "text": [
      "Evaluate: 100%|██████████| 16/16 [00:01<00:00,  8.70it/s]\n"
     ]
    },
    {
     "name": "stdout",
     "output_type": "stream",
     "text": [
      "EPOCH [18/20] => Train Loss : 2.1520 | Val Loss : 5.8032, Val Acc: 0.522\n",
      "EPOCH [19/20]\n",
      "Running Train Loss [100/1532] : 2.21\n",
      "Running Train Loss [200/1532] : 2.25\n",
      "Running Train Loss [300/1532] : 2.27\n",
      "Running Train Loss [400/1532] : 2.30\n",
      "Running Train Loss [500/1532] : 2.31\n",
      "Running Train Loss [600/1532] : 2.33\n",
      "Running Train Loss [700/1532] : 2.35\n",
      "Running Train Loss [800/1532] : 2.37\n",
      "Running Train Loss [900/1532] : 2.40\n",
      "Running Train Loss [1000/1532] : 2.40\n",
      "Running Train Loss [1100/1532] : 2.41\n",
      "Running Train Loss [1200/1532] : 2.43\n",
      "Running Train Loss [1300/1532] : 2.44\n",
      "Running Train Loss [1400/1532] : 2.45\n",
      "Running Train Loss [1500/1532] : 2.47\n"
     ]
    },
    {
     "name": "stderr",
     "output_type": "stream",
     "text": [
      "Evaluate: 100%|██████████| 16/16 [00:01<00:00,  8.61it/s]\n"
     ]
    },
    {
     "name": "stdout",
     "output_type": "stream",
     "text": [
      "EPOCH [19/20] => Train Loss : 2.2564 | Val Loss : 5.8626, Val Acc: 0.508\n",
      "EPOCH [20/20]\n",
      "Running Train Loss [100/1532] : 2.23\n",
      "Running Train Loss [200/1532] : 2.23\n",
      "Running Train Loss [300/1532] : 2.24\n",
      "Running Train Loss [400/1532] : 2.24\n",
      "Running Train Loss [500/1532] : 2.25\n",
      "Running Train Loss [600/1532] : 2.27\n",
      "Running Train Loss [700/1532] : 2.27\n",
      "Running Train Loss [800/1532] : 2.27\n",
      "Running Train Loss [900/1532] : 2.27\n",
      "Running Train Loss [1000/1532] : 2.27\n",
      "Running Train Loss [1100/1532] : 2.28\n",
      "Running Train Loss [1200/1532] : 2.30\n",
      "Running Train Loss [1300/1532] : 2.30\n",
      "Running Train Loss [1400/1532] : 2.31\n",
      "Running Train Loss [1500/1532] : 2.32\n"
     ]
    },
    {
     "name": "stderr",
     "output_type": "stream",
     "text": [
      "Evaluate: 100%|██████████| 16/16 [00:01<00:00,  8.69it/s]\n"
     ]
    },
    {
     "name": "stdout",
     "output_type": "stream",
     "text": [
      "EPOCH [20/20] => Train Loss : 3.0603 | Val Loss : 6.1475, Val Acc: 0.5\n",
      "[Evaluation]\n"
     ]
    },
    {
     "name": "stderr",
     "output_type": "stream",
     "text": [
      "Evaluate: 100%|██████████| 16/16 [00:01<00:00,  8.71it/s]"
     ]
    },
    {
     "name": "stdout",
     "output_type": "stream",
     "text": [
      "Val Loss : 6.1475, Val Acc: 0.5\n"
     ]
    },
    {
     "name": "stderr",
     "output_type": "stream",
     "text": [
      "\n"
     ]
    }
   ],
   "source": [
    "epochs = 20\n",
    "\n",
    "train_losses = []\n",
    "val_losses = []\n",
    "val_accs = []\n",
    "for epoch in range(1,epochs+1):\n",
    "    print(f'EPOCH [{epoch}/{epochs}]')\n",
    "    run_train_loss = 0.\n",
    "    run_train_count = 0\n",
    "    \n",
    "    step = 1\n",
    "    for train_data in train_loader:\n",
    "        loss = train_batch(crnn, train_data, optimizer, criterion, device)\n",
    "        train_size = train_data[0].size(0)\n",
    "        run_train_loss += loss\n",
    "        run_train_count += train_size\n",
    "        if step%100 == 0:\n",
    "            print(f'Running Train Loss [{step}/{len(train_loader)}] : {run_train_loss/run_train_count :.2f}')\n",
    "        \n",
    "        step += 1\n",
    "    \n",
    "    train_loss = loss / train_size\n",
    "    eval = evaluate(crnn, val_loader, criterion)\n",
    "    \n",
    "    print(f\"EPOCH [{epoch}/{epochs}] => Train Loss : {train_loss:.4f} | Val Loss : {eval['loss']:.4f}, Val Acc: { eval['acc']}\")\n",
    "    train_losses.append(train_loss)\n",
    "    val_losses.append(evaluation['loss'])\n",
    "    val_accs.append(evaluation['acc'])\n",
    "\n",
    "print('[Evaluation]')\n",
    "final_eval = evaluate(crnn, val_loader, criterion)\n",
    "print(f\"Val Loss : {final_eval['loss']:.4f}, Val Acc: {final_eval['acc']}\")"
   ]
  },
  {
   "cell_type": "code",
   "execution_count": 11,
   "metadata": {},
   "outputs": [],
   "source": [
    "cp_path = os.path.join('checkpoints','crnn_100k.pt')\n",
    "torch.save(crnn.state_dict(),cp_path)"
   ]
  }
 ],
 "metadata": {
  "kernelspec": {
   "display_name": "your_env_name",
   "language": "python",
   "name": "python3"
  },
  "language_info": {
   "codemirror_mode": {
    "name": "ipython",
    "version": 3
   },
   "file_extension": ".py",
   "mimetype": "text/x-python",
   "name": "python",
   "nbconvert_exporter": "python",
   "pygments_lexer": "ipython3",
   "version": "3.8.18"
  }
 },
 "nbformat": 4,
 "nbformat_minor": 2
}
