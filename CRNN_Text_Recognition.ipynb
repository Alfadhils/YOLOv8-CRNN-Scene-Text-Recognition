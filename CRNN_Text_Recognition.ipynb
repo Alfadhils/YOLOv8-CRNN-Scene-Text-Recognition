{
 "cells": [
  {
   "cell_type": "code",
   "execution_count": 3,
   "metadata": {},
   "outputs": [
    {
     "data": {
      "text/plain": [
       "<torch._C.Generator at 0x1a6859bdb10>"
      ]
     },
     "execution_count": 3,
     "metadata": {},
     "output_type": "execute_result"
    }
   ],
   "source": [
    "import os\n",
    "import numpy as np \n",
    "import matplotlib.pyplot as plt \n",
    "from PIL import Image, ImageOps\n",
    "import pandas as pd\n",
    "import csv\n",
    "\n",
    "import torch\n",
    "from torchvision import transforms\n",
    "from torch import nn\n",
    "import torch.nn.functional as F\n",
    "from itertools import groupby\n",
    "\n",
    "from src.crnn_dataset import TRDataset, get_split\n",
    "from src.crnn_model import CRNN\n",
    "from src.crnn_decoder import ctc_decode\n",
    "from src.crnn_train import train_batch\n",
    "from src.crnn_evaluate import evaluate\n",
    "\n",
    "from tqdm import tqdm\n",
    "\n",
    "torch.manual_seed(42)"
   ]
  },
  {
   "cell_type": "code",
   "execution_count": 4,
   "metadata": {},
   "outputs": [
    {
     "name": "stdout",
     "output_type": "stream",
     "text": [
      "cuda\n"
     ]
    }
   ],
   "source": [
    "device = 'cuda' if torch.cuda.is_available() else 'cpu'\n",
    "print(device)"
   ]
  },
  {
   "cell_type": "code",
   "execution_count": 5,
   "metadata": {},
   "outputs": [],
   "source": [
    "reload_checkpoint = 'checkpoints/crnn_synth_100k_config.pt'"
   ]
  },
  {
   "cell_type": "code",
   "execution_count": 6,
   "metadata": {},
   "outputs": [],
   "source": [
    "if reload_checkpoint:\n",
    "    config = torch.load(reload_checkpoint, map_location=device)\n",
    "else :\n",
    "    config = {\n",
    "    'state_dict' : None,\n",
    "    'img_height' : 32,\n",
    "    'img_width' : 100,\n",
    "    'batch_size' : 64,\n",
    "    'root_dir' : \"datasets/TR_100k\",\n",
    "    'labels' : \"labels.csv\",\n",
    "    'splits' : [0.98,0.01,0.01],\n",
    "    'map_to_seq' : 64,\n",
    "    'rnn_hidden' : 256\n",
    "    }"
   ]
  },
  {
   "cell_type": "code",
   "execution_count": 7,
   "metadata": {},
   "outputs": [],
   "source": [
    "train_loader, val_loader, test_loader = get_split(root_dir=config['root_dir'],\n",
    "                                                  labels=config['labels'],\n",
    "                                                  img_width=config['img_width'],\n",
    "                                                  img_height=config['img_height'],\n",
    "                                                  batch_size=config['batch_size'],\n",
    "                                                  splits=config['splits'])"
   ]
  },
  {
   "cell_type": "code",
   "execution_count": 8,
   "metadata": {},
   "outputs": [],
   "source": [
    "num_class = len(TRDataset.LABEL2CHAR) + 1"
   ]
  },
  {
   "cell_type": "code",
   "execution_count": 9,
   "metadata": {},
   "outputs": [
    {
     "data": {
      "text/plain": [
       "CRNN(\n",
       "  (cnn): Sequential(\n",
       "    (conv0): Conv2d(1, 64, kernel_size=(3, 3), stride=(1, 1), padding=(1, 1))\n",
       "    (relu0): ReLU(inplace=True)\n",
       "    (pooling0): MaxPool2d(kernel_size=2, stride=2, padding=0, dilation=1, ceil_mode=False)\n",
       "    (conv1): Conv2d(64, 128, kernel_size=(3, 3), stride=(1, 1), padding=(1, 1))\n",
       "    (relu1): ReLU(inplace=True)\n",
       "    (pooling1): MaxPool2d(kernel_size=2, stride=2, padding=0, dilation=1, ceil_mode=False)\n",
       "    (conv2): Conv2d(128, 256, kernel_size=(3, 3), stride=(1, 1), padding=(1, 1))\n",
       "    (relu2): ReLU(inplace=True)\n",
       "    (conv3): Conv2d(256, 256, kernel_size=(3, 3), stride=(1, 1), padding=(1, 1))\n",
       "    (relu3): ReLU(inplace=True)\n",
       "    (pooling2): MaxPool2d(kernel_size=(2, 1), stride=(2, 1), padding=0, dilation=1, ceil_mode=False)\n",
       "    (conv4): Conv2d(256, 512, kernel_size=(3, 3), stride=(1, 1), padding=(1, 1))\n",
       "    (batchnorm4): BatchNorm2d(512, eps=1e-05, momentum=0.1, affine=True, track_running_stats=True)\n",
       "    (relu4): ReLU(inplace=True)\n",
       "    (conv5): Conv2d(512, 512, kernel_size=(3, 3), stride=(1, 1), padding=(1, 1))\n",
       "    (batchnorm5): BatchNorm2d(512, eps=1e-05, momentum=0.1, affine=True, track_running_stats=True)\n",
       "    (relu5): ReLU(inplace=True)\n",
       "    (pooling3): MaxPool2d(kernel_size=(2, 1), stride=(2, 1), padding=0, dilation=1, ceil_mode=False)\n",
       "    (conv6): Conv2d(512, 512, kernel_size=(2, 2), stride=(1, 1))\n",
       "    (relu6): ReLU(inplace=True)\n",
       "  )\n",
       "  (map_to_seq): Linear(in_features=512, out_features=64, bias=True)\n",
       "  (rnn1): LSTM(64, 256, bidirectional=True)\n",
       "  (rnn2): LSTM(512, 256, bidirectional=True)\n",
       "  (dense): Linear(in_features=512, out_features=37, bias=True)\n",
       ")"
      ]
     },
     "execution_count": 9,
     "metadata": {},
     "output_type": "execute_result"
    }
   ],
   "source": [
    "crnn = CRNN(1, config['img_height'], config['img_width'], num_class,\n",
    "                map_to_seq=config['map_to_seq'],\n",
    "                rnn_hidden=config['rnn_hidden'])\n",
    "\n",
    "if config['state_dict']:\n",
    "    crnn.load_state_dict(config['state_dict'])\n",
    "\n",
    "crnn.to(device)"
   ]
  },
  {
   "cell_type": "code",
   "execution_count": null,
   "metadata": {},
   "outputs": [],
   "source": [
    "cp_path = os.path.join('checkpoints','crnn_synth_100k_config.pt')\n",
    "torch.save(config,cp_path)"
   ]
  },
  {
   "cell_type": "code",
   "execution_count": 10,
   "metadata": {},
   "outputs": [],
   "source": [
    "criterion = nn.CTCLoss(reduction='sum', zero_infinity=True)\n",
    "optimizer = torch.optim.Adam(crnn.parameters(), lr=0.0005)"
   ]
  },
  {
   "cell_type": "code",
   "execution_count": null,
   "metadata": {},
   "outputs": [],
   "source": [
    "def predict(crnn, dataloader, label2char):\n",
    "    crnn.eval()\n",
    "    pbar = tqdm(total=len(dataloader), desc=\"Predict\")\n",
    "\n",
    "    all_preds = []\n",
    "    with torch.no_grad():\n",
    "        for data in dataloader:\n",
    "            device = 'cuda' if next(crnn.parameters()).is_cuda else 'cpu'\n",
    "\n",
    "            images, targets, target_lengths = [d.to(device) for d in data]\n",
    "\n",
    "            logits = crnn(images)\n",
    "            log_probs = torch.nn.functional.log_softmax(logits, dim=2)\n",
    "\n",
    "            preds = ctc_decode(log_probs, label2char=label2char)\n",
    "            all_preds += preds\n",
    "\n",
    "            pbar.update(1)\n",
    "        pbar.close()\n",
    "\n",
    "    return all_preds\n",
    "\n",
    "\n",
    "def show_result(preds):\n",
    "    print('\\n===== result =====')\n",
    "    for pred in preds:\n",
    "        text = ''.join(pred)\n",
    "        print(text)"
   ]
  },
  {
   "cell_type": "code",
   "execution_count": 11,
   "metadata": {},
   "outputs": [
    {
     "name": "stderr",
     "output_type": "stream",
     "text": [
      "Evaluate: 100%|██████████| 16/16 [00:02<00:00,  5.52it/s]"
     ]
    },
    {
     "name": "stdout",
     "output_type": "stream",
     "text": [
      "valid_evaluation: loss=2.2308524475097657, acc=0.779\n"
     ]
    },
    {
     "name": "stderr",
     "output_type": "stream",
     "text": [
      "\n"
     ]
    }
   ],
   "source": [
    "evaluation = evaluate(crnn, val_loader, criterion)\n",
    "print('valid_evaluation: loss={loss}, acc={acc}'.format(**evaluation))"
   ]
  },
  {
   "cell_type": "code",
   "execution_count": null,
   "metadata": {},
   "outputs": [],
   "source": [
    "fig, axes = plt.subplots(8, 8, figsize=(24, 24))\n",
    "\n",
    "crnn.eval()\n",
    "\n",
    "label2char = TRDataset.LABEL2CHAR\n",
    "with torch.no_grad():\n",
    "    for i, data in enumerate(val_loader):\n",
    "        device = 'cuda' if next(crnn.parameters()).is_cuda else 'cpu'\n",
    "\n",
    "        images, targets, target_lengths = [d.to(device) for d in data]\n",
    "\n",
    "        logits = crnn(images)\n",
    "        log_probs = torch.nn.functional.log_softmax(logits, dim=2)\n",
    "\n",
    "        batch_size = images.size(0)\n",
    "        input_lengths = torch.LongTensor([logits.size(0)] * batch_size)\n",
    "\n",
    "        loss = criterion(log_probs, targets, input_lengths, target_lengths)\n",
    "\n",
    "        preds = ctc_decode(log_probs, label2char=label2char)\n",
    "        reals = targets.cpu().numpy().tolist()\n",
    "        target_lengths = target_lengths.cpu().numpy().tolist()\n",
    "\n",
    "        all_preds = []\n",
    "        all_reals = []\n",
    "        target_length_counter = 0\n",
    "        for pred, target_length in zip(preds, target_lengths):\n",
    "            real = reals[target_length_counter:target_length_counter + target_length]\n",
    "            real = [label2char[l] for l in real]\n",
    "            pred_text, real_text = ''.join(pred), ''.join(real)\n",
    "            all_preds.append(pred_text)\n",
    "            all_reals.append(real_text)\n",
    "\n",
    "            target_length_counter += target_length\n",
    "\n",
    "        for i, img in enumerate(images.cpu().numpy()):\n",
    "            axes.flatten()[i].imshow(img[0], cmap='gray')\n",
    "            axes.flatten()[i].set_title(f'{all_reals[i]} > {all_preds[i]}')\n",
    "\n",
    "        plt.show()\n",
    "        break"
   ]
  },
  {
   "cell_type": "code",
   "execution_count": null,
   "metadata": {},
   "outputs": [],
   "source": [
    "epochs = 20\n",
    "\n",
    "train_losses = []\n",
    "val_losses = []\n",
    "val_accs = []\n",
    "for epoch in range(1,epochs+1):\n",
    "    print(f'EPOCH [{epoch}/{epochs}]')\n",
    "    run_train_loss = 0.\n",
    "    run_train_count = 0\n",
    "    \n",
    "    step = 1\n",
    "    for train_data in train_loader:\n",
    "        loss = train_batch(crnn, train_data, optimizer, criterion, device)\n",
    "        train_size = train_data[0].size(0)\n",
    "        run_train_loss += loss\n",
    "        run_train_count += train_size\n",
    "        if step%100 == 0:\n",
    "            print(f'Running Train Loss [{step}/{len(train_loader)}] : {run_train_loss/run_train_count :.2f}')\n",
    "        \n",
    "        step += 1\n",
    "    \n",
    "    train_loss = loss / train_size\n",
    "    eval = evaluate(crnn, val_loader, criterion)\n",
    "    \n",
    "    print(f\"EPOCH [{epoch}/{epochs}] => Train Loss : {train_loss:.4f} | Val Loss : {eval['loss']:.4f}, Val Acc: { eval['acc']}\")\n",
    "    train_losses.append(train_loss)\n",
    "    val_losses.append(evaluation['loss'])\n",
    "    val_accs.append(evaluation['acc'])\n",
    "\n",
    "print('[Evaluation]')\n",
    "final_eval = evaluate(crnn, val_loader, criterion)\n",
    "print(f\"Val Loss : {final_eval['loss']:.4f}, Val Acc: {final_eval['acc']}\")"
   ]
  },
  {
   "cell_type": "code",
   "execution_count": null,
   "metadata": {},
   "outputs": [],
   "source": [
    "cp_path = os.path.join('checkpoints','crnn_100k.pt')\n",
    "torch.save(crnn.state_dict(),cp_path)"
   ]
  }
 ],
 "metadata": {
  "kernelspec": {
   "display_name": "your_env_name",
   "language": "python",
   "name": "python3"
  },
  "language_info": {
   "codemirror_mode": {
    "name": "ipython",
    "version": 3
   },
   "file_extension": ".py",
   "mimetype": "text/x-python",
   "name": "python",
   "nbconvert_exporter": "python",
   "pygments_lexer": "ipython3",
   "version": "3.8.18"
  }
 },
 "nbformat": 4,
 "nbformat_minor": 2
}
